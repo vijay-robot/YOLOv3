{
  "nbformat": 4,
  "nbformat_minor": 0,
  "metadata": {
    "colab": {
      "name": "Yolo3_Murtaza.ipynb",
      "provenance": [],
      "authorship_tag": "ABX9TyOxqSUP9+JSwRoidzDBCjqT",
      "include_colab_link": true
    },
    "kernelspec": {
      "name": "python3",
      "display_name": "Python 3"
    }
  },
  "cells": [
    {
      "cell_type": "markdown",
      "metadata": {
        "id": "view-in-github",
        "colab_type": "text"
      },
      "source": [
        "<a href=\"https://colab.research.google.com/github/vijay-robot/YOLOv3/blob/master/Yolo3_Murtaza.ipynb\" target=\"_parent\"><img src=\"https://colab.research.google.com/assets/colab-badge.svg\" alt=\"Open In Colab\"/></a>"
      ]
    },
    {
      "cell_type": "code",
      "metadata": {
        "id": "IBS4e9dyjc_g"
      },
      "source": [
        "import numpy as np\r\n",
        "import matplotlib.pyplot as plt\r\n",
        "import matplotlib.image as mpimg\r\n",
        "import cv2\r\n",
        "import urllib.request \r\n",
        "from scipy import ndimage # multidimensional image processing\r\n",
        "from skimage.color import rgb2hsv # image processing algorithms \r\n",
        "from google.colab.patches import cv2_imshow\r\n"
      ],
      "execution_count": 1,
      "outputs": []
    },
    {
      "cell_type": "code",
      "metadata": {
        "colab": {
          "base_uri": "https://localhost:8080/"
        },
        "id": "RNQHCCI7ycuG",
        "outputId": "5152cfed-784c-4e84-cf8a-212717179624"
      },
      "source": [
        "classesFile = '/content/sample_data/coco_class.txt'\r\n",
        "classNames = []\r\n",
        "with open(classesFile, 'rt') as f:\r\n",
        "  classNames = f.read().rstrip('\\n').split('\\n')\r\n",
        "print(classNames)\r\n",
        "print(len(classNames))\r\n",
        "whT=320\r\n",
        "confThreshold = 0.4"
      ],
      "execution_count": 9,
      "outputs": [
        {
          "output_type": "stream",
          "text": [
            "['person', 'bicycle', 'car', 'motorbike', 'aeroplane', 'bus', 'train', 'truck', 'boat', 'traffic light', 'fire hydrant', 'stop sign', 'parking meter', 'bench', 'bird', 'cat', 'dog', 'horse', 'sheep', 'cow', 'elephant', 'bear', 'zebra', 'giraffe', 'backpack', 'umbrella', 'handbag', 'tie', 'suitcase', 'frisbee', 'skis', 'snowboard', 'sports ball', 'kite', 'baseball bat', 'baseball glove', 'skateboard', 'surfboard', 'tennis racket', 'bottle', 'wine glass', 'cup', 'fork', 'knife', 'spoon', 'bowl', 'banana', 'apple', 'sandwich', 'orange', 'broccoli', 'carrot', 'hot dog', 'pizza', 'donut', 'cake', 'chair', 'sofa', 'pottedplant', 'bed', 'diningtable', 'toilet', 'tvmonitor', 'laptop', 'mouse', 'remote', 'keyboard', 'cell phone', 'microwave', 'oven', 'toaster', 'sink', 'refrigerator', 'book', 'clock', 'vase', 'scissors', 'teddy bear', 'hair drier', 'toothbrush']\n",
            "80\n"
          ],
          "name": "stdout"
        }
      ]
    },
    {
      "cell_type": "code",
      "metadata": {
        "id": "LO-0G73zIUfZ"
      },
      "source": [
        "# url = 'https://github.com/vijay-robot/darknet/blob/master/cfg/yolov3-tiny.cfg'\r\n",
        "# urllib.request.urlretrieve(url, '/content/sample_data/yolov3-tiny.cfg')\r\n",
        "#!wget -L 'https://github.com/vijay-robot/darknet/blob/master/cfg/yolov3-tiny.cfg'"
      ],
      "execution_count": 95,
      "outputs": []
    },
    {
      "cell_type": "code",
      "metadata": {
        "id": "Yf_XUmmnRooo"
      },
      "source": [
        "modelConfiguration = '/content/sample_data/yolov3t_custom_cfg.txt'\r\n",
        "modelWeights = '/content/sample_data/yolov3.weights'\r\n",
        "net = cv2.dnn.readNetFromDarknet(modelConfiguration,modelWeights)\r\n",
        "net.setPreferableBackend(cv2.dnn.DNN_BACKEND_OPENCV)\r\n",
        "net.setPreferableTarget(cv2.dnn.DNN_TARGET_CPU)\r\n"
      ],
      "execution_count": 3,
      "outputs": []
    },
    {
      "cell_type": "code",
      "metadata": {
        "colab": {
          "base_uri": "https://localhost:8080/",
          "height": 414
        },
        "id": "DMBgjuD4iVCT",
        "outputId": "bc948714-741a-485e-9210-b1da1635b711"
      },
      "source": [
        "img = cv2.imread('/content/sample_data/testset1_940cluster_0.jpg')\r\n",
        "print(img.shape)\r\n",
        "blob = cv2.dnn.blobFromImage(img,1/255,(whT,whT),[0,0,0],1,crop=False)  #need to send blob as the input\r\n",
        "cv2_imshow(img)\r\n",
        "cv2.waitKey(1)\r\n",
        "net.setInput(blob)\r\n",
        "print(blob.shape)\r\n",
        "\r\n",
        "layerNames =net.getLayerNames()\r\n",
        "#print(layerNames) for i in \r\n",
        "outputNames = [layerNames[i[0]-1] for i in net.getUnconnectedOutLayers()]  #to print out layer names using a loop\r\n",
        "print(outputNames)\r\n",
        "#print(net.getUnconnectedOutLayers())\r\n",
        "print(net.getUnconnectedOutLayersNames())  #same as the loop\r\n",
        "outputs =net.forward(outputNames)  #forwards the output names from the model \r\n",
        "# print(len(outputs))   # to check that there are 3 output layers\r\n",
        "print(outputs[0].shape)   # we get 300x85  rows x columns, what is 85?? should be 80 classes\r\n",
        "print(outputs[1].shape)   # we get 1200x85\r\n",
        "print(outputs[2].shape)   # we get 4800x85\r\n",
        "print((outputs[0][100]))\r\n"
      ],
      "execution_count": 20,
      "outputs": [
        {
          "output_type": "stream",
          "text": [
            "(102, 79, 3)\n"
          ],
          "name": "stdout"
        },
        {
          "output_type": "display_data",
          "data": {
            "image/png": "[encoded data removed]",
            "text/plain": [
              "<PIL.Image.Image image mode=RGB size=79x102 at 0x7FCE0B6A6CF8>"
            ]
          },
          "metadata": {
            "tags": []
          }
        },
        {
          "output_type": "stream",
          "text": [
            "(1, 3, 320, 320)\n",
            "['yolo_82', 'yolo_94', 'yolo_106']\n",
            "['yolo_82', 'yolo_94', 'yolo_106']\n",
            "(300, 85)\n",
            "(1200, 85)\n",
            "(4800, 85)\n",
            "[0.35    0.35    0.4875  0.61875 0.5     0.      0.      0.      0.\n",
            " 0.      0.      0.      0.      0.      0.      0.      0.      0.\n",
            " 0.      0.      0.      0.      0.      0.      0.      0.      0.\n",
            " 0.      0.      0.      0.      0.      0.      0.      0.      0.\n",
            " 0.      0.      0.      0.      0.      0.      0.      0.      0.\n",
            " 0.      0.      0.      0.      0.      0.      0.      0.      0.\n",
            " 0.      0.      0.      0.      0.      0.      0.      0.      0.\n",
            " 0.      0.      0.      0.      0.      0.      0.      0.      0.\n",
            " 0.      0.      0.      0.      0.      0.      0.      0.      0.\n",
            " 0.      0.      0.      0.     ]\n"
          ],
          "name": "stdout"
        }
      ]
    },
    {
      "cell_type": "code",
      "metadata": {
        "id": "DP9sVFujMeoG"
      },
      "source": [
        "def findObjects(outputs,img):\r\n",
        "  hT,wT,cT = img.shape\r\n",
        "  bbox = []\r\n",
        "  classIds = []\r\n",
        "  confs =[]\r\n",
        "\r\n",
        "  for output in outputs:\r\n",
        "    for det in output:\r\n",
        "      scores = det[5:]\r\n",
        "      classId = np.argmax(scores)\r\n",
        "      confidence = scores[classId]\r\n",
        "      if confidence > confThreshold:\r\n",
        "        w,h = int(det[2]*wT),int(det[3]*hT)\r\n",
        "        x,y = int((det[0]*wT - w/2)),int((det[1]*hT)-h/2)\r\n",
        "        bbox.append([x,y,w,h])\r\n",
        "        classIds.append(classId)\r\n",
        "        confs.append(float(confidence))\r\n",
        "  print(len(bbox)) \r\n"
      ],
      "execution_count": 16,
      "outputs": []
    },
    {
      "cell_type": "code",
      "metadata": {
        "colab": {
          "base_uri": "https://localhost:8080/"
        },
        "id": "r3xH-ubkRKPu",
        "outputId": "f75b9eae-2d5d-4759-a11c-ccc281efdccd"
      },
      "source": [
        "findObjects(outputs,img)\r\n",
        "hT,wT,cT = img.shape\r\n",
        "print(hT,wT,cT)"
      ],
      "execution_count": 17,
      "outputs": [
        {
          "output_type": "stream",
          "text": [
            "0\n",
            "236 465 3\n"
          ],
          "name": "stdout"
        }
      ]
    }
  ]
}